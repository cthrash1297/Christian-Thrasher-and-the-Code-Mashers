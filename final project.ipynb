{
 "cells": [
  {
   "cell_type": "code",
   "execution_count": 1,
   "id": "786b0ea3-8b47-4a2e-b4d1-2237672a9a51",
   "metadata": {},
   "outputs": [
    {
     "name": "stdout",
     "output_type": "stream",
     "text": [
      "Collecting opendatasets\n",
      "  Using cached opendatasets-0.1.22-py3-none-any.whl.metadata (9.2 kB)\n",
      "Requirement already satisfied: tqdm in /opt/conda/lib/python3.11/site-packages (from opendatasets) (4.67.1)\n",
      "Collecting kaggle (from opendatasets)\n",
      "  Using cached kaggle-1.7.4.2-py3-none-any.whl.metadata (16 kB)\n",
      "Requirement already satisfied: click in /opt/conda/lib/python3.11/site-packages (from opendatasets) (8.1.7)\n",
      "Requirement already satisfied: bleach in /opt/conda/lib/python3.11/site-packages (from kaggle->opendatasets) (6.1.0)\n",
      "Requirement already satisfied: certifi>=14.05.14 in /opt/conda/lib/python3.11/site-packages (from kaggle->opendatasets) (2024.12.14)\n",
      "Requirement already satisfied: charset-normalizer in /opt/conda/lib/python3.11/site-packages (from kaggle->opendatasets) (3.4.0)\n",
      "Requirement already satisfied: idna in /opt/conda/lib/python3.11/site-packages (from kaggle->opendatasets) (3.10)\n",
      "Requirement already satisfied: protobuf in /opt/conda/lib/python3.11/site-packages (from kaggle->opendatasets) (4.25.3)\n",
      "Requirement already satisfied: python-dateutil>=2.5.3 in /opt/conda/lib/python3.11/site-packages (from kaggle->opendatasets) (2.9.0.post0)\n",
      "Collecting python-slugify (from kaggle->opendatasets)\n",
      "  Using cached python_slugify-8.0.4-py2.py3-none-any.whl.metadata (8.5 kB)\n",
      "Requirement already satisfied: requests in /opt/conda/lib/python3.11/site-packages (from kaggle->opendatasets) (2.32.3)\n",
      "Requirement already satisfied: setuptools>=21.0.0 in /opt/conda/lib/python3.11/site-packages (from kaggle->opendatasets) (69.5.1)\n",
      "Requirement already satisfied: six>=1.10 in /opt/conda/lib/python3.11/site-packages (from kaggle->opendatasets) (1.17.0)\n",
      "Collecting text-unidecode (from kaggle->opendatasets)\n",
      "  Using cached text_unidecode-1.3-py2.py3-none-any.whl.metadata (2.4 kB)\n",
      "Requirement already satisfied: urllib3>=1.15.1 in /opt/conda/lib/python3.11/site-packages (from kaggle->opendatasets) (2.2.3)\n",
      "Requirement already satisfied: webencodings in /opt/conda/lib/python3.11/site-packages (from kaggle->opendatasets) (0.5.1)\n",
      "Using cached opendatasets-0.1.22-py3-none-any.whl (15 kB)\n",
      "Using cached kaggle-1.7.4.2-py3-none-any.whl (173 kB)\n",
      "Using cached python_slugify-8.0.4-py2.py3-none-any.whl (10 kB)\n",
      "Using cached text_unidecode-1.3-py2.py3-none-any.whl (78 kB)\n",
      "Installing collected packages: text-unidecode, python-slugify, kaggle, opendatasets\n",
      "Successfully installed kaggle-1.7.4.2 opendatasets-0.1.22 python-slugify-8.0.4 text-unidecode-1.3\n",
      "Requirement already satisfied: pandas in /opt/conda/lib/python3.11/site-packages (2.2.2)\n",
      "Requirement already satisfied: numpy>=1.23.2 in /opt/conda/lib/python3.11/site-packages (from pandas) (1.26.4)\n",
      "Requirement already satisfied: python-dateutil>=2.8.2 in /opt/conda/lib/python3.11/site-packages (from pandas) (2.9.0.post0)\n",
      "Requirement already satisfied: pytz>=2020.1 in /opt/conda/lib/python3.11/site-packages (from pandas) (2024.1)\n",
      "Requirement already satisfied: tzdata>=2022.7 in /opt/conda/lib/python3.11/site-packages (from pandas) (2024.1)\n",
      "Requirement already satisfied: six>=1.5 in /opt/conda/lib/python3.11/site-packages (from python-dateutil>=2.8.2->pandas) (1.17.0)\n",
      "Collecting torchmetrics\n",
      "  Downloading torchmetrics-1.7.1-py3-none-any.whl.metadata (21 kB)\n",
      "Requirement already satisfied: numpy>1.20.0 in /opt/conda/lib/python3.11/site-packages (from torchmetrics) (1.26.4)\n",
      "Requirement already satisfied: packaging>17.1 in /opt/conda/lib/python3.11/site-packages (from torchmetrics) (24.2)\n",
      "Requirement already satisfied: torch>=2.0.0 in /opt/conda/lib/python3.11/site-packages (from torchmetrics) (2.2.0)\n",
      "Collecting lightning-utilities>=0.8.0 (from torchmetrics)\n",
      "  Downloading lightning_utilities-0.14.3-py3-none-any.whl.metadata (5.6 kB)\n",
      "Requirement already satisfied: setuptools in /opt/conda/lib/python3.11/site-packages (from lightning-utilities>=0.8.0->torchmetrics) (69.5.1)\n",
      "Requirement already satisfied: typing_extensions in /opt/conda/lib/python3.11/site-packages (from lightning-utilities>=0.8.0->torchmetrics) (4.12.2)\n",
      "Requirement already satisfied: filelock in /opt/conda/lib/python3.11/site-packages (from torch>=2.0.0->torchmetrics) (3.16.1)\n",
      "Requirement already satisfied: sympy in /opt/conda/lib/python3.11/site-packages (from torch>=2.0.0->torchmetrics) (1.13.1)\n",
      "Requirement already satisfied: networkx in /opt/conda/lib/python3.11/site-packages (from torch>=2.0.0->torchmetrics) (3.4.2)\n",
      "Requirement already satisfied: jinja2 in /opt/conda/lib/python3.11/site-packages (from torch>=2.0.0->torchmetrics) (3.1.4)\n",
      "Requirement already satisfied: fsspec in /opt/conda/lib/python3.11/site-packages (from torch>=2.0.0->torchmetrics) (2024.10.0)\n",
      "Requirement already satisfied: nvidia-cuda-nvrtc-cu12==12.1.105 in /opt/conda/lib/python3.11/site-packages (from torch>=2.0.0->torchmetrics) (12.1.105)\n",
      "Requirement already satisfied: nvidia-cuda-runtime-cu12==12.1.105 in /opt/conda/lib/python3.11/site-packages (from torch>=2.0.0->torchmetrics) (12.1.105)\n",
      "Requirement already satisfied: nvidia-cuda-cupti-cu12==12.1.105 in /opt/conda/lib/python3.11/site-packages (from torch>=2.0.0->torchmetrics) (12.1.105)\n",
      "Requirement already satisfied: nvidia-cudnn-cu12==8.9.2.26 in /opt/conda/lib/python3.11/site-packages (from torch>=2.0.0->torchmetrics) (8.9.2.26)\n",
      "Requirement already satisfied: nvidia-cublas-cu12==12.1.3.1 in /opt/conda/lib/python3.11/site-packages (from torch>=2.0.0->torchmetrics) (12.1.3.1)\n",
      "Requirement already satisfied: nvidia-cufft-cu12==11.0.2.54 in /opt/conda/lib/python3.11/site-packages (from torch>=2.0.0->torchmetrics) (11.0.2.54)\n",
      "Requirement already satisfied: nvidia-curand-cu12==10.3.2.106 in /opt/conda/lib/python3.11/site-packages (from torch>=2.0.0->torchmetrics) (10.3.2.106)\n",
      "Requirement already satisfied: nvidia-cusolver-cu12==11.4.5.107 in /opt/conda/lib/python3.11/site-packages (from torch>=2.0.0->torchmetrics) (11.4.5.107)\n",
      "Requirement already satisfied: nvidia-cusparse-cu12==12.1.0.106 in /opt/conda/lib/python3.11/site-packages (from torch>=2.0.0->torchmetrics) (12.1.0.106)\n",
      "Requirement already satisfied: nvidia-nccl-cu12==2.19.3 in /opt/conda/lib/python3.11/site-packages (from torch>=2.0.0->torchmetrics) (2.19.3)\n",
      "Requirement already satisfied: nvidia-nvtx-cu12==12.1.105 in /opt/conda/lib/python3.11/site-packages (from torch>=2.0.0->torchmetrics) (12.1.105)\n",
      "Requirement already satisfied: triton==2.2.0 in /opt/conda/lib/python3.11/site-packages (from torch>=2.0.0->torchmetrics) (2.2.0)\n",
      "Requirement already satisfied: nvidia-nvjitlink-cu12 in /opt/conda/lib/python3.11/site-packages (from nvidia-cusolver-cu12==11.4.5.107->torch>=2.0.0->torchmetrics) (12.4.127)\n",
      "Requirement already satisfied: MarkupSafe>=2.0 in /opt/conda/lib/python3.11/site-packages (from jinja2->torch>=2.0.0->torchmetrics) (3.0.2)\n",
      "Requirement already satisfied: mpmath<1.4,>=1.1.0 in /opt/conda/lib/python3.11/site-packages (from sympy->torch>=2.0.0->torchmetrics) (1.3.0)\n",
      "Downloading torchmetrics-1.7.1-py3-none-any.whl (961 kB)\n",
      "\u001b[2K   \u001b[90m━━━━━━━━━━━━━━━━━━━━━━━━━━━━━━━━━━━━━━━━\u001b[0m \u001b[32m961.5/961.5 kB\u001b[0m \u001b[31m20.1 MB/s\u001b[0m eta \u001b[36m0:00:00\u001b[0m00:01\u001b[0m\n",
      "\u001b[?25hDownloading lightning_utilities-0.14.3-py3-none-any.whl (28 kB)\n",
      "Installing collected packages: lightning-utilities, torchmetrics\n",
      "Successfully installed lightning-utilities-0.14.3 torchmetrics-1.7.1\n"
     ]
    }
   ],
   "source": [
    "!pip install opendatasets\n",
    "!pip install pandas\n",
    "!pip install torchmetrics"
   ]
  },
  {
   "cell_type": "code",
   "execution_count": 1,
   "id": "8d80011a-6c88-496c-aa85-a3870b1e0528",
   "metadata": {},
   "outputs": [
    {
     "name": "stdout",
     "output_type": "stream",
     "text": [
      "Dataset URL: https://www.kaggle.com/datasets/msambare/fer2013\n"
     ]
    }
   ],
   "source": [
    "import opendatasets as od \n",
    "import pandas \n",
    "\n",
    "od.download( \n",
    "    \"https://www.kaggle.com/datasets/msambare/fer2013/data\") \n"
   ]
  },
  {
   "cell_type": "code",
   "execution_count": 1,
   "id": "99b784d2-9cb0-4444-bec2-ef5e2fae3335",
   "metadata": {},
   "outputs": [
    {
     "data": {
      "text/plain": [
       "['train', 'test']"
      ]
     },
     "execution_count": 1,
     "metadata": {},
     "output_type": "execute_result"
    }
   ],
   "source": [
    "import os\n",
    "\n",
    "# List the files in the downloaded folder\n",
    "dataset_path = \"fer2013\"\n",
    "os.listdir(dataset_path)"
   ]
  },
  {
   "cell_type": "code",
   "execution_count": 2,
   "id": "31a33c57-7173-41dc-a532-12aa01c3baf9",
   "metadata": {},
   "outputs": [
    {
     "name": "stdout",
     "output_type": "stream",
     "text": [
      "Using GPU\n"
     ]
    }
   ],
   "source": [
    "import torch\n",
    "import torch.nn as nn\n",
    "from torch.optim import Adam\n",
    "\n",
    "# Checking if CUDA is available\n",
    "flag_cuda = torch.cuda.is_available()\n",
    "\n",
    "if not flag_cuda:\n",
    "    print('Using CPU')\n",
    "else:\n",
    "    print('Using GPU')\n"
   ]
  },
  {
   "cell_type": "code",
   "execution_count": 16,
   "id": "a8d29c84-49a3-478a-bd30-4d98218318b9",
   "metadata": {},
   "outputs": [
    {
     "name": "stdout",
     "output_type": "stream",
     "text": [
      "Dataset ImageFolder\n",
      "    Number of datapoints: 28709\n",
      "    Root location: fer2013/train\n",
      "    StandardTransform\n",
      "Transform: Compose(\n",
      "               Grayscale(num_output_channels=1)\n",
      "               ToTensor()\n",
      "               Normalize(mean=[0.5], std=[0.5])\n",
      "           )\n"
     ]
    }
   ],
   "source": [
    "\n",
    "from torchvision import transforms\n",
    "import numpy as np\n",
    "import random as random\n",
    "from torch.utils.data import Dataset, DataLoader\n",
    "from torchvision import datasets\n",
    "from torch.utils.data.sampler import SubsetRandomSampler\n",
    "from PIL import Image\n",
    "\n",
    "from torchvision import datasets, transforms\n",
    "from torch.utils.data import DataLoader, random_split\n",
    "\n",
    "transform = transforms.Compose([\n",
    "    transforms.Grayscale(num_output_channels=1),\n",
    "    transforms.ToTensor(),\n",
    "    transforms.Normalize([0.5], [0.5])\n",
    "    \n",
    "])\n",
    "\n",
    "# Load full training set\n",
    "full_dataset = datasets.ImageFolder(root=\"fer2013/train\", transform=transform)\n",
    "\n",
    "print(full_dataset)\n",
    "\n",
    "#target_class_name = \"disgust\"\n",
    "\n",
    "#target_class_idx = full_dataset.class_to_idx[target_class_name]\n",
    "\n",
    "# Duplicate and augment target class samples\n",
    "#augmented_samples = []\n",
    "#for path, label in dataset.samples:\n",
    "    #if label == target_class_idx:\n",
    "        # Load image and apply extra transform\n",
    "        #image = Image.open(path).convert('RGB')\n",
    "        #transformed_image = extra_transform(image)\n",
    "        #augmented_samples.append((transformed_image, label))\n",
    "\n",
    "# Split 80/20\n",
    "train_size = int(0.8 * len(full_dataset))\n",
    "valid_size = len(full_dataset) - train_size\n",
    "train_dataset, valid_dataset = random_split(full_dataset, [train_size, valid_size])\n",
    "\n",
    "# DataLoaders\n",
    "train_loader = DataLoader(train_dataset, batch_size=64, shuffle=True)\n",
    "valid_loader = DataLoader(valid_dataset, batch_size=64, shuffle=False)\n",
    "\n",
    "# Test set\n",
    "test_dataset = datasets.ImageFolder(root=\"fer2013/test\", transform=transform)\n",
    "test_loader = DataLoader(test_dataset, batch_size=64, shuffle=False)\n"
   ]
  },
  {
   "cell_type": "code",
   "execution_count": 17,
   "id": "d2db774f-3b67-44ef-ae02-ace182407ce9",
   "metadata": {},
   "outputs": [],
   "source": [
    "# Dataloaders\n",
    "# batch_size = 32\n",
    "# train_loader = DataLoader(train_dataset, batch_size=batch_size, shuffle=True)\n",
    "# valid_loader = DataLoader(valid_dataset, batch_size=batch_size, shuffle=False)"
   ]
  },
  {
   "cell_type": "code",
   "execution_count": 18,
   "id": "074954f7-8544-4bbe-9978-3b268074e8d4",
   "metadata": {},
   "outputs": [],
   "source": [
    "# # Get dataset sizes\n",
    "# train_N = len(train_dataset)\n",
    "# valid_N = len(valid_dataset)"
   ]
  },
  {
   "cell_type": "code",
   "execution_count": 19,
   "id": "458f763d-5f24-4436-a58f-a02d716943ef",
   "metadata": {},
   "outputs": [],
   "source": [
    "\n",
    "# Hyperparameters\n",
    "n_classes = 7  # FER2013 has 7 emotions\n",
    "IMG_CHS = 1  # Grayscale images\n",
    "kernel_size = 3\n",
    "flattened_img_size = 75 * 3 * 3\n",
    "\n",
    "# Define the CNN Model\n",
    "model = nn.Sequential(\n",
    "    # First convolution\n",
    "    nn.Conv2d(IMG_CHS, 25, kernel_size, stride=1, padding=1),  # 25 x 48 x 48\n",
    "    nn.BatchNorm2d(25),\n",
    "    nn.ReLU(),\n",
    "    nn.MaxPool2d(2, stride=2),  # 25 x 24 x 24\n",
    "    \n",
    "    # Second convolution\n",
    "    nn.Conv2d(25, 50, kernel_size, stride=1, padding=1),  # 50 x 24 x 24\n",
    "    nn.BatchNorm2d(50),\n",
    "    nn.ReLU(),\n",
    "    nn.Dropout(0.2),\n",
    "    nn.MaxPool2d(2, stride=2),  # 50 x 12 x 12\n",
    "    \n",
    "    # Third convolution\n",
    "    nn.Conv2d(50, 75, kernel_size, stride=1, padding=1),  # 75 x 12 x 12\n",
    "    nn.BatchNorm2d(75),\n",
    "    nn.ReLU(),\n",
    "    nn.Dropout(0.2),\n",
    "    nn.MaxPool2d(2, stride=2),  # 75 x 6 x 6\n",
    "    \n",
    "    # Flatten to Dense\n",
    "    nn.Flatten(),\n",
    "    nn.Linear(75 * 6 * 6, 512),\n",
    "    nn.Dropout(0.3),\n",
    "    nn.ReLU(),\n",
    "    nn.Linear(512, n_classes)  # Output 7 classes\n",
    ")\n"
   ]
  },
  {
   "cell_type": "code",
   "execution_count": 20,
   "id": "9818666d-f5e1-4c25-9887-5fde6c377cfb",
   "metadata": {},
   "outputs": [],
   "source": [
    "device = torch.device(\"cuda\" if flag_cuda else \"cpu\")\n",
    "model = model.to(device)"
   ]
  },
  {
   "cell_type": "code",
   "execution_count": 21,
   "id": "25169d9b-d62f-4693-9b16-f6fac8cda1d0",
   "metadata": {},
   "outputs": [],
   "source": [
    "# Define Loss and Optimizer\n",
    "weights = torch.tensor([1.0, 1.0, 1.0, 1.0, 1.0, 1.0, 1.0], device=device)\n",
    "loss_function = nn.CrossEntropyLoss(weight=weights)\n",
    "optimizer = Adam(model.parameters())"
   ]
  },
  {
   "cell_type": "code",
   "execution_count": 22,
   "id": "ab039a74-e60e-4692-92ce-87f517faeca1",
   "metadata": {},
   "outputs": [],
   "source": [
    "# Function to calculate batch accuracy\n",
    "def get_batch_accuracy(output, y, N):\n",
    "    pred = output.argmax(dim=1, keepdim=True)\n",
    "    correct = pred.eq(y.view_as(pred)).sum().item()\n",
    "    return correct / N"
   ]
  },
  {
   "cell_type": "code",
   "execution_count": 23,
   "id": "13c72d8f-a650-47b7-87f0-ce42fbad7edf",
   "metadata": {},
   "outputs": [],
   "source": [
    "# Validation function\n",
    "def validate(get_preds=False):\n",
    "    loss = 0\n",
    "    accuracy = 0\n",
    "    valid_preds = []\n",
    "    valid_targets = []\n",
    "    model.eval()\n",
    "    valid_N = len(valid_loader.dataset)\n",
    "    with torch.no_grad():\n",
    "        for x, y in valid_loader:\n",
    "            x, y = x.to(device), y.to(device)\n",
    "            output = model(x)\n",
    "\n",
    "            loss += loss_function(output, y).item()\n",
    "            accuracy += get_batch_accuracy(output, y, valid_N)\n",
    "\n",
    "            if(get_preds):\n",
    "                preds = torch.argmax(output, dim=1)\n",
    "                valid_preds.extend(preds.cpu().numpy())\n",
    "                valid_targets.extend(y.cpu().numpy())\n",
    "    \n",
    "    print(f'Valid - Loss: {loss:.4f} Accuracy: {accuracy:.4f}')\n",
    "    if(get_preds):\n",
    "        return np.array(valid_targets), np.array(valid_preds)\n",
    "\n",
    "# Training function\n",
    "def train(get_preds=False):\n",
    "    loss = 0\n",
    "    accuracy = 0\n",
    "    train_preds = []\n",
    "    train_targets = []\n",
    "    model.train()\n",
    "    train_N = len(train_loader.dataset)\n",
    "    for x, y in train_loader:\n",
    "        x, y = x.to(device), y.to(device)\n",
    "        output = model(x)\n",
    "        optimizer.zero_grad()\n",
    "        \n",
    "        batch_loss = loss_function(output, y)\n",
    "        batch_loss.backward()\n",
    "        optimizer.step()\n",
    "\n",
    "        loss += batch_loss.item()\n",
    "        accuracy += get_batch_accuracy(output, y, train_N)\n",
    "\n",
    "        if(get_preds):\n",
    "            preds = torch.argmax(output, dim=1)\n",
    "            train_preds.extend(preds.cpu().numpy())\n",
    "            train_targets.extend(y.cpu().numpy())\n",
    "    \n",
    "    print(f'Train - Loss: {loss:.4f} Accuracy: {accuracy:.4f}')\n",
    "    if(get_preds):\n",
    "        return np.array(train_targets), np.array(train_preds)\n"
   ]
  },
  {
   "cell_type": "code",
   "execution_count": 24,
   "id": "f26c22d8-06ab-4ee4-8098-04c3c5b4c218",
   "metadata": {},
   "outputs": [],
   "source": [
    "import sklearn.metrics as metrics\n",
    "from sklearn.metrics import accuracy_score, confusion_matrix, ConfusionMatrixDisplay\n",
    "def summaryPerf(yTrain,yTrainHat,y,yHat):\n",
    "    # Plotting confusion matrix for the non-training set:\n",
    "    cm = metrics.confusion_matrix(y,yHat,normalize='true')\n",
    "    disp = metrics.ConfusionMatrixDisplay(confusion_matrix=cm,display_labels=\n",
    "                                  ['Angry', 'Disgust', 'Fear', 'Happy', 'Sad', 'Surprise', 'Neutral'])\n",
    "    disp.plot()\n",
    "\n",
    "    # Displaying metrics for training and non-training sets\n",
    "    print('Training:  Acc = {:4.3f}'.format(metrics.accuracy_score(yTrain,yTrainHat)))\n",
    "    print('Training:  BalAcc = {:4.3f}'.format(metrics.balanced_accuracy_score(yTrain,yTrainHat)))\n",
    "    print('Validation: Acc = {:4.3f}'.format(metrics.accuracy_score(y,yHat)))\n",
    "    print('Validation: BalAcc = {:4.3f}'.format(metrics.balanced_accuracy_score(y,yHat)))"
   ]
  },
  {
   "cell_type": "code",
   "execution_count": 25,
   "id": "0c6809cf-e0d5-4aa4-9275-58e8dccfa4e4",
   "metadata": {},
   "outputs": [],
   "source": [
    "import torchmetrics\n",
    "def compute_f1():\n",
    "    model.eval()\n",
    "    f1_metric = torchmetrics.F1Score(task=\"multiclass\", num_classes=7).to(\"cuda\")\n",
    "    f1_metric.reset()\n",
    "    \n",
    "    with torch.no_grad():\n",
    "        for x, y in valid_loader:\n",
    "            x, y = x.to(device), y.to(device)  # Keep everything on GPU\n",
    "            output = model(x)\n",
    "            predictions = torch.argmax(output, dim=1)\n",
    "\n",
    "            f1_metric.update(predictions, y)  # Directly update the metric\n",
    "    print(f\"F1_score: {f1_metric.compute().item():.4f}\")\n"
   ]
  },
  {
   "cell_type": "code",
   "execution_count": 26,
   "id": "49bd1257-7ec4-4672-bf87-10a3cd085d65",
   "metadata": {},
   "outputs": [
    {
     "name": "stdout",
     "output_type": "stream",
     "text": [
      "Epoch: 1/30\n",
      "Train - Loss: 598.4663 Accuracy: 0.3405\n",
      "Valid - Loss: 133.6388 Accuracy: 0.4345\n",
      "Epoch: 2/30\n",
      "Train - Loss: 510.3927 Accuracy: 0.4455\n",
      "Valid - Loss: 121.6924 Accuracy: 0.4885\n",
      "Epoch: 3/30\n",
      "Train - Loss: 478.7819 Accuracy: 0.4827\n",
      "Valid - Loss: 118.1774 Accuracy: 0.5035\n",
      "Epoch: 4/30\n",
      "Train - Loss: 457.0525 Accuracy: 0.5120\n",
      "Valid - Loss: 114.9945 Accuracy: 0.5077\n",
      "Epoch: 5/30\n",
      "Train - Loss: 438.2923 Accuracy: 0.5261\n",
      "Valid - Loss: 110.1922 Accuracy: 0.5425\n",
      "Epoch: 6/30\n",
      "Train - Loss: 423.8887 Accuracy: 0.5477\n",
      "Valid - Loss: 110.2157 Accuracy: 0.5272\n",
      "Epoch: 7/30\n",
      "Train - Loss: 410.5530 Accuracy: 0.5630\n",
      "Valid - Loss: 107.8425 Accuracy: 0.5482\n",
      "Epoch: 8/30\n",
      "Train - Loss: 397.1173 Accuracy: 0.5717\n",
      "Valid - Loss: 104.9253 Accuracy: 0.5571\n",
      "Epoch: 9/30\n",
      "Train - Loss: 388.7575 Accuracy: 0.5861\n",
      "Valid - Loss: 103.1370 Accuracy: 0.5629\n",
      "Epoch: 10/30\n",
      "Train - Loss: 378.4089 Accuracy: 0.5994\n",
      "Valid - Loss: 101.9527 Accuracy: 0.5705\n",
      "Epoch: 11/30\n",
      "Train - Loss: 369.2810 Accuracy: 0.6049\n",
      "Valid - Loss: 103.5658 Accuracy: 0.5594\n",
      "Epoch: 12/30\n",
      "Train - Loss: 358.8234 Accuracy: 0.6170\n",
      "Valid - Loss: 101.7160 Accuracy: 0.5688\n",
      "Epoch: 13/30\n",
      "Train - Loss: 346.1154 Accuracy: 0.6307\n",
      "Valid - Loss: 102.1313 Accuracy: 0.5709\n",
      "Epoch: 14/30\n",
      "Train - Loss: 341.4382 Accuracy: 0.6334\n",
      "Valid - Loss: 101.3543 Accuracy: 0.5796\n",
      "Epoch: 15/30\n",
      "Train - Loss: 334.8669 Accuracy: 0.6414\n",
      "Valid - Loss: 100.1038 Accuracy: 0.5848\n",
      "Epoch: 16/30\n",
      "Train - Loss: 323.4205 Accuracy: 0.6538\n",
      "Valid - Loss: 100.2120 Accuracy: 0.5904\n",
      "Epoch: 17/30\n",
      "Train - Loss: 317.2513 Accuracy: 0.6594\n",
      "Valid - Loss: 100.8301 Accuracy: 0.5805\n",
      "Epoch: 18/30\n",
      "Train - Loss: 310.5178 Accuracy: 0.6685\n",
      "Valid - Loss: 101.3474 Accuracy: 0.5761\n",
      "Epoch: 19/30\n",
      "Train - Loss: 303.3498 Accuracy: 0.6731\n",
      "Valid - Loss: 101.2984 Accuracy: 0.5860\n",
      "Epoch: 20/30\n",
      "Train - Loss: 298.6963 Accuracy: 0.6808\n",
      "Valid - Loss: 103.5455 Accuracy: 0.5697\n",
      "Epoch: 21/30\n",
      "Train - Loss: 293.1267 Accuracy: 0.6839\n",
      "Valid - Loss: 101.1666 Accuracy: 0.5838\n",
      "Epoch: 22/30\n",
      "Train - Loss: 285.0924 Accuracy: 0.6926\n",
      "Valid - Loss: 102.6580 Accuracy: 0.5855\n",
      "Epoch: 23/30\n",
      "Train - Loss: 283.4646 Accuracy: 0.6937\n",
      "Valid - Loss: 102.8518 Accuracy: 0.5869\n",
      "Epoch: 24/30\n",
      "Train - Loss: 278.7828 Accuracy: 0.7007\n",
      "Valid - Loss: 102.4280 Accuracy: 0.5897\n",
      "Epoch: 25/30\n",
      "Train - Loss: 272.8178 Accuracy: 0.7014\n",
      "Valid - Loss: 104.4150 Accuracy: 0.5855\n",
      "Epoch: 26/30\n",
      "Train - Loss: 269.1825 Accuracy: 0.7088\n",
      "Valid - Loss: 102.7596 Accuracy: 0.5801\n",
      "Epoch: 27/30\n",
      "Train - Loss: 264.1599 Accuracy: 0.7096\n",
      "Valid - Loss: 105.0277 Accuracy: 0.5867\n",
      "Epoch: 28/30\n",
      "Train - Loss: 259.7997 Accuracy: 0.7185\n",
      "Valid - Loss: 102.8557 Accuracy: 0.5873\n",
      "Epoch: 29/30\n",
      "Train - Loss: 256.8242 Accuracy: 0.7212\n",
      "Valid - Loss: 104.8343 Accuracy: 0.5850\n",
      "Epoch: 30/30\n",
      "Train - Loss: 254.1039 Accuracy: 0.7209\n",
      "Valid - Loss: 106.8059 Accuracy: 0.5874\n"
     ]
    }
   ],
   "source": [
    "# Training loop\n",
    "epochs = 30\n",
    "\n",
    "for epoch in range(epochs):\n",
    "    print(f'Epoch: {epoch+1}/{epochs}')\n",
    "    train()\n",
    "    validate()\n",
    "    #compute_f1()"
   ]
  },
  {
   "cell_type": "code",
   "execution_count": 27,
   "id": "24c697bd-e23f-43ed-921a-46132ad9545b",
   "metadata": {},
   "outputs": [
    {
     "name": "stdout",
     "output_type": "stream",
     "text": [
      "Train - Loss: 249.2998 Accuracy: 0.7307\n",
      "Valid - Loss: 109.3272 Accuracy: 0.5866\n",
      "RESULTS:\n",
      "\n",
      "Training:  Acc = 0.731\n",
      "Training:  BalAcc = 0.703\n",
      "Validation: Acc = 0.587\n",
      "Validation: BalAcc = 0.527\n"
     ]
    },
    {
     "data": {
      "image/png": "[encoded data removed]",
      "text/plain": [
       "<Figure size 640x480 with 2 Axes>"
      ]
     },
     "metadata": {},
     "output_type": "display_data"
    }
   ],
   "source": [
    "yTrain, yTrainHat = train(get_preds=True)\n",
    "yVal, yValHat = validate(get_preds=True)\n",
    "\n",
    "# Define Loss and Optimizer\n",
    "weights = torch.tensor([1.0, 1.0, 1.0, 1.0, 1.0, 1.0, 1.0], device=device)\n",
    "loss_function = nn.CrossEntropyLoss(weight=weights)\n",
    "optimizer = Adam(model.parameters())\n",
    "\n",
    "print('RESULTS:\\n')\n",
    "summaryPerf(yTrain, yTrainHat, yVal, yValHat)"
   ]
  },
  {
   "cell_type": "code",
   "execution_count": null,
   "id": "98613dce-5f75-49bc-a64d-7431da586db4",
   "metadata": {},
   "outputs": [],
   "source": []
  },
  {
   "cell_type": "code",
   "execution_count": null,
   "id": "cbdc151f-01d5-4253-8dd8-72173d6545ab",
   "metadata": {},
   "outputs": [],
   "source": []
  }
 ],
 "metadata": {
  "kernelspec": {
   "display_name": "Python 3 (ipykernel)",
   "language": "python",
   "name": "python3"
  },
  "language_info": {
   "codemirror_mode": {
    "name": "ipython",
    "version": 3
   },
   "file_extension": ".py",
   "mimetype": "text/x-python",
   "name": "python",
   "nbconvert_exporter": "python",
   "pygments_lexer": "ipython3",
   "version": "3.11.8"
  }
 },
 "nbformat": 4,
 "nbformat_minor": 5
}
